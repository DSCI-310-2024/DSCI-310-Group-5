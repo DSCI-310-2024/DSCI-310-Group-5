{
 "cells": [
  {
   "cell_type": "markdown",
   "id": "5ada5583-325c-46b5-94aa-3f52b3f05b5c",
   "metadata": {},
   "source": [
    "# Predicting Wine Cultivars"
   ]
  },
  {
   "cell_type": "markdown",
   "id": "d29d4401-6e0e-45b7-8fa9-fc6a7b4249c7",
   "metadata": {},
   "source": [
    "<br><br>"
   ]
  },
  {
   "cell_type": "markdown",
   "id": "b05036ea-be5b-45b7-a128-2173fd4a8407",
   "metadata": {},
   "source": [
    "## Summary\n",
    "---\n",
    "In this project, we will predict what cultivar a wine was derived from based on its chemical properties.  \n",
    "\n",
    "The data was sourced from the [UCI Machine Learning Repository](https://doi.org/10.24432/C5PC7J). It contains data about various wines from Italy derived from three different cultivars. Each row represents the chemical and physical properties of a different wine, such as its concentration of alcohol, magnesium level and hue. "
   ]
  },
  {
   "cell_type": "markdown",
   "id": "be2f2d5c-aa3f-4376-ae2a-2638b63dc749",
   "metadata": {},
   "source": [
    "<br>"
   ]
  },
  {
   "cell_type": "markdown",
   "id": "2077979e-74d6-4382-8b05-415e280a1041",
   "metadata": {},
   "source": [
    "## Introduction\n",
    "---\n",
    "Wine is a beverage that has been enjoyed by humans for thousands of years (Feher et al. 2007). Consequently, humans have a long agricultural history with the grape plant which has led to the development of many different cultivars: grape plants selected and breed for their desirable characteristics (Harutyunyan and Malfeito-Ferreira 2022). Our dataset contains information about twelve chemical properties of 178 red wines made from three grape cultivars in Italy. \n",
    "\n",
    "The recorded chemical properties include: \n",
    "1. Alcohol content\n",
    "2. Malic acid (gives the wine a fruity flavour)\n",
    "3. Ash (left over inorganic matter from the wine-making process)\n",
    "4. Alkalinity of ash (ability to resist acidification)\n",
    "5. Magnesium, total phenols (contribute to bitter flavour of wine)\n",
    "6. Flavanoids (antioxidants that contribute to bitter flavour and aroma of wine)\n",
    "7. Nonflavanoid phenols (weakly acidic)\n",
    "8. Proanthocyanins (bitter smell)\n",
    "9. Color intensity\n",
    "10. Hue\n",
    "11. The ratio of OD280 to OD315 of diluted wines (protein concentration)\n",
    "12. Proline (main amino acid in wine, important aspect of the flavour) (Bai et al. 2019).\n",
    "\n",
    "Using this dataset, our predictive question is: **\"What is the cultivar of an unknown wine based on the chemical properties?\"** \n",
    "\n",
    "Identifying the chemical properties that distinguish cultivars enables farmers to make informed decisions about grape cultivation, aligning grape varieties with desired wine characteristics. By selecting cultivars known for specific flavor profiles or chemical compositions, farmers can tailor vineyard practices to meet market demands effectively. Moreover, this knowledge empowers brewers to experiment with wine compositions, fostering innovation and the creation of novel flavors. Armed with a deep understanding of wine chemistry, brewers can also strategically market their products, ensuring effective communication of the unique qualities and appeal of each wine to consumers."
   ]
  },
  {
   "cell_type": "markdown",
   "id": "d4b3a0c5-19cf-4ec3-a4e1-688efa094bed",
   "metadata": {},
   "source": [
    "<br>"
   ]
  },
  {
   "cell_type": "markdown",
   "id": "f94f96e2-54d4-4ab5-a338-307798c01949",
   "metadata": {},
   "source": [
    "## Code and Analysis\n",
    "---"
   ]
  },
  {
   "cell_type": "code",
   "execution_count": 2,
   "id": "6169c0ae-df29-4a7a-91fb-804241576096",
   "metadata": {
    "scrolled": true,
    "vscode": {
     "languageId": "r"
    }
   },
   "outputs": [
    {
     "ename": "ERROR",
     "evalue": "Error in library(tidymodels): there is no package called ‘tidymodels’\n",
     "output_type": "error",
     "traceback": [
      "Error in library(tidymodels): there is no package called ‘tidymodels’\nTraceback:\n",
      "1. library(tidymodels)"
     ]
    }
   ],
   "source": [
    "# imports and libraries \n",
    "library(GGally) # for ggpairs\n",
    "library(tidyverse) #importing tidyverse\n",
    "library(tidymodels) # importing tidymodels\n",
    "library(repr)\n",
    "library(gridExtra)\n",
    "library(kknn)\n",
    "library(dplyr) # for data wrangling\n",
    "library(knitr) # to create tables\n",
    "library(themis) # to balance our cultivar classes out"
   ]
  },
  {
   "cell_type": "code",
   "execution_count": null,
   "id": "4da51f7d-2d45-48f7-8aec-6505482804e9",
   "metadata": {
    "vscode": {
     "languageId": "r"
    }
   },
   "outputs": [],
   "source": [
    "# Reading in the data from the web\n",
    "set.seed(5)\n",
    "\n",
    "raw_data <- read.csv(\"https://raw.githubusercontent.com/Kaylan-W/dsci_310_project/main/data/wine.data\", header= FALSE)\n",
    "           \n",
    "# Name the columns based on the dataset description \n",
    "col_names <- c(\"cultivar\",\"alcohol\",\"malicacid\", \"ash\", \"alcalinity_of_ash\", \"magnesium\", \"total_phenols\", \n",
    "               \"flavanoids\", \"nonflavanoid_phenols\", \"proanthocyanins\", \"color_intensity\", \"hue\", \"0D280_0D315_ratio\", \"proline\")\n",
    "colnames(raw_data) <- col_names\n"
   ]
  },
  {
   "cell_type": "markdown",
   "id": "93ca90cb-41c6-4a72-af2a-0f3ae6962881",
   "metadata": {},
   "source": [
    "<br><br>"
   ]
  },
  {
   "cell_type": "markdown",
   "id": "d0c8bffd",
   "metadata": {},
   "source": [
    "## Exploratory Data Analysis"
   ]
  },
  {
   "cell_type": "code",
   "execution_count": null,
   "id": "3a9efb89-97d1-4649-be3e-d62bf63c8355",
   "metadata": {
    "vscode": {
     "languageId": "r"
    }
   },
   "outputs": [],
   "source": [
    "# EDA: use a plot to see the relationships between variables\n",
    "options(repr.plot.width = 12, repr.plot.height = 30) # format the any visualizations to be easily viewable\n",
    "pairplots <- raw_data %>%\n",
    "  ggpairs(progress = FALSE) +\n",
    "  theme(\n",
    "    text = element_text(size = 15),\n",
    "    plot.title = element_text(face = \"bold\"),\n",
    "    axis.title = element_text(face = \"bold\")\n",
    "  )\n",
    "pairplots"
   ]
  },
  {
   "attachments": {},
   "cell_type": "markdown",
   "id": "85547c57-6cac-40c0-af38-025dd65b1da5",
   "metadata": {},
   "source": [
    "Figure 1: A correlation matrix for the variables in our dataset.\n",
    "\n",
    "<br>"
   ]
  },
  {
   "cell_type": "code",
   "execution_count": null,
   "id": "03b4009c",
   "metadata": {
    "vscode": {
     "languageId": "r"
    }
   },
   "outputs": [],
   "source": [
    "# Check the number of observations per cultivar\n",
    "sample_size_cultivar <- raw_data %>%\n",
    "    group_by(cultivar) %>%\n",
    "    summarize(sample_size = n())\n",
    "\n",
    "sample_size_cultivar # class 2 has more observations than the other classes -> need to balance the classes out"
   ]
  },
  {
   "attachments": {},
   "cell_type": "markdown",
   "id": "17f6c47e-37c8-42e6-8751-1ddf693d1b5f",
   "metadata": {},
   "source": [
    "Table 1: The number of observations for each level of `cultivar` before balancing.\n",
    "\n",
    "<br>"
   ]
  },
  {
   "cell_type": "code",
   "execution_count": null,
   "id": "ee76d463",
   "metadata": {
    "vscode": {
     "languageId": "r"
    }
   },
   "outputs": [],
   "source": [
    "# balance the cultivar class \n",
    "\n",
    "# convert cultivar into a factor\n",
    "raw_data <- raw_data |>\n",
    "  mutate(cultivar = as.factor(cultivar))\n",
    "\n",
    "# recipe for balancing\n",
    "cultivar_balance_recipe <- recipe(cultivar ~ ., data = raw_data) |>\n",
    "  step_upsample(cultivar, over_ratio = 1, skip = FALSE) |>\n",
    "  prep()\n",
    "\n",
    "# execute the balancing\n",
    "data <- bake(cultivar_balance_recipe, raw_data)\n",
    "\n",
    "# check the data is balanced\n",
    "balanced_data <- data |>\n",
    "  group_by(cultivar) |>\n",
    "  summarize(n = n())\n",
    "\n",
    "balanced_data # data has been upsampled so all groups have equal sample size\n"
   ]
  },
  {
   "attachments": {},
   "cell_type": "markdown",
   "id": "0ea3b02f-13c4-4e7d-902a-04ccb3ce0a1f",
   "metadata": {},
   "source": [
    "Table 2: The number of observations for each level of `cultivar` after balancing.\n",
    "\n",
    "<br>"
   ]
  },
  {
   "cell_type": "code",
   "execution_count": null,
   "id": "c8148be5-3192-48e2-9d7e-33a7057faba7",
   "metadata": {},
   "outputs": [],
   "source": [
    "# calculate the mean for each cultivar group\n",
    "cultivar_mean_table <- raw_data |>\n",
    "    group_by(cultivar) |>\n",
    "    summarize(across(alcohol:proline, mean, na.rm = TRUE))\n",
    "\n",
    "cultivar_mean_table <- cultivar_mean_table %>% \n",
    "                      mutate(stat = 'mean') %>%\n",
    "                      select(stat, everything())\n",
    "\n",
    " \n",
    "# calculate the standard deviation for each cultivar group\n",
    "cultivar_sd_table <- raw_data |>\n",
    "    group_by(cultivar) |>\n",
    "    summarize(across(alcohol:proline, sd, na.rm = TRUE))\n",
    "\n",
    "cultivar_sd_table <- cultivar_sd_table %>% \n",
    "                      mutate(stat = 'sd') %>%\n",
    "                      select(stat, everything())\n",
    "\n",
    "# calculate the maximum values for each cultivar group\n",
    "cultivar_max_table <- data %>%\n",
    "  group_by(cultivar) %>%\n",
    "  summarize(across(alcohol:proline, ~max(.x, na.rm = TRUE))) %>%  # Corrected line\n",
    "  mutate(stat = 'max') %>%\n",
    "  select(stat, everything())\n",
    "\n",
    "# # calculate the minimum values for each cultivar group\n",
    "cultivar_min_table <- raw_data |>\n",
    "    group_by(cultivar) |>\n",
    "    summarize(across(alcohol:proline, min, na.rm = TRUE))\n",
    "\n",
    "cultivar_min_table <- cultivar_min_table %>% \n",
    "                      mutate(stat = 'min') %>%\n",
    "                      select(stat, everything())\n",
    "\n",
    "\n",
    "appended_stats_df <- rbind(cultivar_mean_table,cultivar_sd_table, cultivar_max_table, cultivar_min_table)\n",
    "appended_stats_df"
   ]
  },
  {
   "attachments": {},
   "cell_type": "markdown",
   "id": "71ac644d-6840-4f80-ae70-6bfbeee274be",
   "metadata": {},
   "source": [
    "Table 3: Summary statistics for each variable per cultivar.\n",
    "\n",
    "<br>"
   ]
  },
  {
   "cell_type": "code",
   "execution_count": null,
   "id": "5567a7c6",
   "metadata": {
    "vscode": {
     "languageId": "r"
    }
   },
   "outputs": [],
   "source": [
    "eda_plot_data <- raw_data |>\n",
    "    relocate(flavanoids, 1)\n",
    "\n",
    "eda_plot_data <- eda_plot_data |>\n",
    "        pivot_longer(\n",
    "        cols= alcohol:proline,\n",
    "        names_to=\"factor\",\n",
    "        values_to=\"values\")\n",
    "\n",
    "eda_plot1 <- eda_plot_data|>\n",
    "    ggplot(aes(x=flavanoids,y=values,color=cultivar))+\n",
    "    geom_point(alpha=0.35)+\n",
    "    facet_grid(factor~.,scales=\"free\")+\n",
    "    labs(x=\"Flavanoid\",y=\"Values\",color=\"Cultivar\")\n",
    "eda_plot1\n"
   ]
  },
  {
   "attachments": {},
   "cell_type": "markdown",
   "id": "7562980a-e318-4f7e-ba50-1d9642d06b4a",
   "metadata": {},
   "source": [
    "Figure 2: Colourizing `cultivar` for each variable in the dataset to visualize patterns in the data.\n",
    "\n",
    "<br>"
   ]
  },
  {
   "cell_type": "markdown",
   "id": "314fabdb-242a-4a29-b32e-3db6d640e49f",
   "metadata": {},
   "source": [
    "## K-nearest neighbours regression"
   ]
  },
  {
   "cell_type": "code",
   "execution_count": null,
   "id": "13e28443",
   "metadata": {
    "vscode": {
     "languageId": "r"
    }
   },
   "outputs": [],
   "source": [
    "data_split <- initial_split(data, prop = 0.75, strata = cultivar)\n",
    "data_train <- training(data_split)\n",
    "data_test <- testing(data_split)"
   ]
  },
  {
   "cell_type": "code",
   "execution_count": null,
   "id": "6a46c0f9-dd4a-4af0-bc75-54a3bebaca1d",
   "metadata": {
    "vscode": {
     "languageId": "r"
    }
   },
   "outputs": [],
   "source": [
    "data_recipe <- recipe(cultivar ~ flavanoids + total_phenols, data = data_train) |>\n",
    "    step_scale(all_predictors()) |>\n",
    "    step_center(all_predictors())\n",
    "\n",
    "data_spec <- nearest_neighbor(weight_func = \"rectangular\",\n",
    "                               neighbors = tune()) |>\n",
    "    set_engine(\"kknn\") |>\n",
    "    set_mode(\"classification\")\n",
    "\n",
    "data_vfold <- vfold_cv(data_train, v = 5, strata = cultivar)\n",
    "\n",
    "k_vals <- tibble(neighbors = seq(from = 1, to = 70, by = 1))\n",
    "\n",
    "knn_results <- workflow() |>\n",
    "    add_recipe(data_recipe) |>\n",
    "    add_model(data_spec) |>\n",
    "    tune_grid(resamples = data_vfold, grid = k_vals) |>\n",
    "    collect_metrics()\n",
    "\n",
    "accuracies = knn_results |>\n",
    "    filter(.metric == \"accuracy\")\n",
    "\n",
    "cross_val_plot <- ggplot(accuracies, aes(x = neighbors, y = mean)) +\n",
    "    geom_point() +\n",
    "    geom_line() +\n",
    "    labs(x = \"K (neighbors)\", y = \"Accuracy Estimate (%)\", title = \"Accuracy vs Number of Neighbors (k)\") +\n",
    "    theme(text = element_text(size = 25))\n",
    "\n",
    "options(repr.plot.width = 15, repr.plot.height = 15) # format the any visualizations to be easily viewable\n",
    "cross_val_plot"
   ]
  },
  {
   "attachments": {},
   "cell_type": "markdown",
   "id": "381a973c-a08f-46dc-9ad6-7e64a0e2cb18",
   "metadata": {},
   "source": [
    "Figure 3: A comparison of $k$ and accuracy.\n",
    "\n",
    "<br>"
   ]
  },
  {
   "cell_type": "code",
   "execution_count": null,
   "id": "576c7026-5421-47cd-9866-ba94706523cd",
   "metadata": {},
   "outputs": [],
   "source": [
    "knn_spec_final <- nearest_neighbor(weight_func = \"rectangular\", neighbors = 8) |>\n",
    "    set_engine(\"kknn\") |>\n",
    "    set_mode(\"classification\")\n",
    "\n",
    "\n",
    "final_fit<-workflow()|>\n",
    "        add_recipe(data_recipe)|>\n",
    "        add_model(knn_spec_final)|>\n",
    "        fit(data_train)\n",
    "final_fit"
   ]
  },
  {
   "attachments": {},
   "cell_type": "markdown",
   "id": "4643b8b2-266c-4114-9e6e-12afb50a9ffb",
   "metadata": {},
   "source": [
    "Table 4: The hyperparameters of the optimized k-nn model.\n",
    "\n",
    "<br>"
   ]
  },
  {
   "cell_type": "code",
   "execution_count": null,
   "id": "fa9139e3-15a5-4ad4-b3ac-3c6402f84270",
   "metadata": {},
   "outputs": [],
   "source": [
    "data_test_predictions<-predict(final_fit,data_test)|>\n",
    "    bind_cols(data_test)|>\n",
    "    arrange(cultivar)|>\n",
    "    mutate(Class=as_factor(cultivar))\n",
    "\n",
    "data_prediction_accuracy <- data_test_predictions |>\n",
    "        metrics(truth = Class, estimate = .pred_class)|>\n",
    "        filter(.metric==\"accuracy\")\n",
    "\n",
    "data_prediction_accuracy"
   ]
  },
  {
   "attachments": {},
   "cell_type": "markdown",
   "id": "a7a3d95a-3809-4d7e-b97e-e029863045b9",
   "metadata": {},
   "source": [
    "Table 5: A summary of the model's accuracy.\n",
    "\n",
    "<br>"
   ]
  },
  {
   "cell_type": "code",
   "execution_count": null,
   "id": "7d382809-1f3e-4f03-b0d9-9bb23eea9ce8",
   "metadata": {},
   "outputs": [],
   "source": [
    "data_prediction_truth_mat<-data_test_predictions |>\n",
    "        conf_mat(truth = Class, estimate = .pred_class)\n",
    "\n",
    "data_prediction_truth_mat"
   ]
  },
  {
   "attachments": {},
   "cell_type": "markdown",
   "id": "e2c7b54a-8fae-411f-894a-a78958355df8",
   "metadata": {},
   "source": [
    "Table 6: A confusion matrix for the model's predictions.\n",
    "\n",
    "<br>"
   ]
  },
  {
   "attachments": {},
   "cell_type": "markdown",
   "id": "5bc40ae5-114b-4a00-b375-f926f0fd733e",
   "metadata": {},
   "source": [
    "<br>"
   ]
  },
  {
   "cell_type": "markdown",
   "id": "53d19c04-0f28-43ff-aab6-f86967901a33",
   "metadata": {},
   "source": [
    "## Methods & Results\n",
    "---\n",
    "This project utilized a K-nearest neighbours algorithm to predict what cultivar a wine was derived from based on its various chemical properties. First, we read in data from the UCI Machine Learning Repository. It contains data about various wines from Italy derived from three different cultivars. Each row represents the chemical and physical properties of a different wine, such as its concentration of alcohol, magnesium level and hue.\n",
    "\n",
    "We then tidied the data and balanced the classes of the classification variable we are interested in. This is because the data set is not extensively large, so ensuring each class has an equal number of observations prevents our model from being biased towards a specific dominant class. Next we calculated some summary statistics to facilitate exploratory data analysis, with the goal of finding key input variables for our model.\n",
    "\n",
    "The data was split into 75% for the training set and 25% for the test set. To fine tune our model, we used 5 fold cross validation, grid search, and graphical methods to choose the optimal value of $K$. The result was $K$ = 8 being used in the k-nn model.\n"
   ]
  },
  {
   "cell_type": "markdown",
   "id": "563d9805-5941-4e94-800c-5f471cddaee4",
   "metadata": {},
   "source": [
    "<br>"
   ]
  },
  {
   "cell_type": "markdown",
   "id": "75836fdf-22c9-4efc-838e-9e0c79716ef4",
   "metadata": {},
   "source": [
    "## Discussion\n",
    "--- \n",
    "\n",
    "Our multiclass k-nn model performed relatively well on the test data, achieving an accuracy estimate of approximately $80\\%$. The confusion matrix reveals insights into the model's performance across the three cultivar classes. Notably, while the model demonstrated strong precision and recall for predicting cultivar 3, it encountered challenges in accurately classifying cultivar 2. This aligns with our initial hypothesis that certain chemical properties may serve as distinguishing factors for wine cultivars.\n",
    "\n",
    "However, despite the model's overall success, its limitations in predicting cultivar 2 suggest avenues for improvement. Future iterations of the model could benefit from refining input variables to better capture the nuances of each cultivar's chemical composition. Moreover, our findings underscore the importance of further investigation into the unique characteristics of cultivar 3, which consistently stood out in our predictions.\n",
    "\n",
    "By elucidating the chemical properties that differentiate wine cultivars, our study contributes to the broader goal of simplifying wine classification for consumers. Ultimately, this research not only enhances our understanding of wine chemistry but also has practical implications for wine enthusiasts and industry professionals alike. "
   ]
  },
  {
   "cell_type": "markdown",
   "id": "6dfbca8d-47c2-4677-bbfd-57ae1edbbf4e",
   "metadata": {},
   "source": [
    "<br>"
   ]
  },
  {
   "attachments": {},
   "cell_type": "markdown",
   "id": "80bdda5a-7886-4e82-a60d-77fc96fede78",
   "metadata": {},
   "source": [
    "## References\n",
    "---\n",
    "Aeberhard,Stefan and Forina,M.. (1991). Wine. UCI Machine Learning Repository. https://doi.org/10.24432/C5PC7J.\n",
    "\n",
    "Bai, X., Wang, L., & Li, H. (2019). Identification of red wine categories based on physicochemical properties. International Conference on Educational Technology, Management, and Humanities Science, 1443-1448.\n",
    "https://doi.org/ 10.25236/etmhs.2019.30\n",
    "\n",
    "\n",
    "\n",
    "Fehér, J., Lengyel, G., & Lugasi, A. (2007). The cultural history of wine—Theoretical background to wine therapy. Central European Journal of Medicine, 2(4), 379–391. https://doi.org/10.2478/s11536-007-0048\n",
    "\n",
    "\n",
    "\n",
    "Harutyunyan, M., & Malfeito-Ferreira, M. (2022). The Rise of Wine among Ancient Civilizations across the Mediterranean Basin. Heritage, 5(2), Article 2. https://doi.org/10.3390/heritage50203\n",
    "\n",
    "\n"
   ]
  }
 ],
 "metadata": {
  "kernelspec": {
   "display_name": "R",
   "language": "R",
   "name": "ir"
  },
  "language_info": {
   "codemirror_mode": "r",
   "file_extension": ".r",
   "mimetype": "text/x-r-source",
   "name": "R",
   "pygments_lexer": "r",
   "version": "4.3.2"
  }
 },
 "nbformat": 4,
 "nbformat_minor": 5
}
