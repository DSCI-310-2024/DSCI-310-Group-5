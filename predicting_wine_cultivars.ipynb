{
 "cells": [
  {
   "cell_type": "markdown",
   "id": "5ada5583-325c-46b5-94aa-3f52b3f05b5c",
   "metadata": {},
   "source": [
    "# Predicting Wine Cultivars"
   ]
  },
  {
   "cell_type": "markdown",
   "id": "d29d4401-6e0e-45b7-8fa9-fc6a7b4249c7",
   "metadata": {},
   "source": [
    "<br><br>"
   ]
  },
  {
   "cell_type": "markdown",
   "id": "b05036ea-be5b-45b7-a128-2173fd4a8407",
   "metadata": {},
   "source": [
    "## Summary\n",
    "---\n",
    "In this project, we will predict what cultivar a wine was derived from based on its chemical properties.  \n",
    "\n",
    "The data was sourced from the [UCI Machine Learning Repository](https://doi.org/10.24432/C5PC7J). It contains data about various wines from Italy derived from three different cultivars. Each row represents the chemical and physical properties of a different wine, such as its concentration of alcohol, magnesium level and hue. "
   ]
  },
  {
   "cell_type": "markdown",
   "id": "be2f2d5c-aa3f-4376-ae2a-2638b63dc749",
   "metadata": {},
   "source": [
    "<br>"
   ]
  },
  {
   "cell_type": "markdown",
   "id": "2077979e-74d6-4382-8b05-415e280a1041",
   "metadata": {},
   "source": [
    "## Introduction\n",
    "---\n",
    "1. provide some relevant background information on the topic so that someone unfamiliar with it will be prepared to understand the rest of your report\n",
    "2. clearly state the question you tried to answer with your project\n",
    "3. identify and describe the dataset that was used to answer the question"
   ]
  },
  {
   "cell_type": "markdown",
   "id": "d4b3a0c5-19cf-4ec3-a4e1-688efa094bed",
   "metadata": {},
   "source": [
    "<br>"
   ]
  },
  {
   "cell_type": "markdown",
   "id": "f94f96e2-54d4-4ab5-a338-307798c01949",
   "metadata": {},
   "source": [
    "## Code and Analysis\n",
    "---"
   ]
  },
  {
   "cell_type": "code",
   "execution_count": null,
   "id": "a994f4dd-9e70-49b7-a5dd-26b3724670ba",
   "metadata": {
    "vscode": {
     "languageId": "r"
    }
   },
   "outputs": [],
   "source": [
    "# imports and libraries \n",
    "library(GGally) # for ggpairs\n",
    "library(tidyverse) #importing tidyverse\n",
    "library(dplyr) # for data wrangling\n",
    "library(knitr) # to create tables\n",
    "library(themis) # to balance our cultivar classes out"
   ]
  },
  {
   "cell_type": "code",
   "execution_count": null,
   "id": "4da51f7d-2d45-48f7-8aec-6505482804e9",
   "metadata": {
    "vscode": {
     "languageId": "r"
    }
   },
   "outputs": [],
   "source": [
    "# reading in the data from the web\n",
    "raw_data <- read.csv(\"https://raw.githubusercontent.com/DSCI-310-2024/DSCI-310-Group-5/main/data/wine.data\", header= FALSE)\n",
    "           \n",
    "# name the columns based on the dataset description \n",
    "col_names <- c(\"cultivar\",\"alcohol\",\"malicacid\", \"ash\", \"alcalinity_of_ash\", \"magnesium\", \"total_phenols\", \n",
    "               \"flavanoids\", \"nonflavanoid_phenols\", \"proanthocyanins\", \"color_intensity\", \"hue\", \"0D280_0D315_ratio\", \"proline\")\n",
    "colnames(raw_data) <- col_names\n"
   ]
  },
  {
   "cell_type": "markdown",
   "id": "d0c8bffd",
   "metadata": {},
   "source": [
    "## Exploratory Data Analysis"
   ]
  },
  {
   "cell_type": "code",
   "execution_count": null,
   "id": "03b4009c",
   "metadata": {
    "vscode": {
     "languageId": "r"
    }
   },
   "outputs": [],
   "source": [
    "# Check the number of observations per cultivar\n",
    "sample_size_cultivar <- raw_data %>%\n",
    "    group_by(cultivar) %>%\n",
    "    summarize(sample_size = n())\n",
    "\n",
    "sample_size_cultivar # class 2 has more observations than the other classes -> need to balance the classes out"
   ]
  },
  {
   "cell_type": "code",
   "execution_count": null,
   "id": "ee76d463",
   "metadata": {
    "vscode": {
     "languageId": "r"
    }
   },
   "outputs": [],
   "source": [
    "# balance the cultivar class \n",
    "\n",
    "# convert cultivar into a factor\n",
    "raw_data <- raw_data |>\n",
    "  mutate(cultivar = as.factor(cultivar))\n",
    "\n",
    "# recipe for balancing\n",
    "cultivar_balance_recipe <- recipe(cultivar ~ ., data = raw_data) |>\n",
    "  step_upsample(cultivar, over_ratio = 1, skip = FALSE) |>\n",
    "  prep()\n",
    "\n",
    "# execute the balancing\n",
    "data <- bake(cultivar_balance_recipe, raw_data)\n",
    "\n",
    "# check the data is balanced\n",
    "balanced_data <- data |>\n",
    "  group_by(cultivar) |>\n",
    "  summarize(n = n())\n",
    "\n",
    "balanced_data # data has been upsampled so all groups have equal sample size\n"
   ]
  },
  {
   "cell_type": "code",
   "execution_count": null,
   "id": "3a9efb89-97d1-4649-be3e-d62bf63c8355",
   "metadata": {
    "vscode": {
     "languageId": "r"
    }
   },
   "outputs": [],
   "source": [
    "# EDA: use a plot to see the relationships between variables\n",
    "options(repr.plot.width = 12, repr.plot.height = 30) # format the any visualizations to be easily viewable\n",
    "pairplots <- raw_data %>%\n",
    "  ggpairs(progress = FALSE) +\n",
    "  theme(\n",
    "    text = element_text(size = 15),\n",
    "    plot.title = element_text(face = \"bold\"),\n",
    "    axis.title = element_text(face = \"bold\")\n",
    "  )\n",
    "pairplots"
   ]
  },
  {
   "cell_type": "code",
   "execution_count": null,
   "id": "1a3fbd6c",
   "metadata": {
    "vscode": {
     "languageId": "r"
    }
   },
   "outputs": [],
   "source": [
    "# calculate the mean for each cultivar group\n",
    "cultivar_mean_table <- raw_data |>\n",
    "    group_by(cultivar) |>\n",
    "    summarize(across(alcohol:proline, mean, na.rm = TRUE))\n",
    "\n",
    "cultivar_mean_table\n"
   ]
  },
  {
   "cell_type": "code",
   "execution_count": null,
   "id": "2e856057",
   "metadata": {
    "vscode": {
     "languageId": "r"
    }
   },
   "outputs": [],
   "source": [
    "# calculate the standard deviation for each cultivar group\n",
    "cultivar_sd_table <- raw_data |>\n",
    "    group_by(cultivar) |>\n",
    "    summarize(across(alcohol:proline, sd, na.rm = TRUE))\n",
    "\n",
    "cultivar_sd_table\n"
   ]
  },
  {
   "cell_type": "code",
   "execution_count": null,
   "id": "fa238d71",
   "metadata": {
    "vscode": {
     "languageId": "r"
    }
   },
   "outputs": [],
   "source": [
    "# calculate the maximum values for each cultivar group\n",
    "cultivar_max_table <- raw_data |>\n",
    "    group_by(cultivar) |>\n",
    "    summarize(across(alcohol:proline, max, na.rm = TRUE))\n",
    "\n",
    "cultivar_max_table\n"
   ]
  },
  {
   "cell_type": "code",
   "execution_count": null,
   "id": "dd59df66",
   "metadata": {
    "vscode": {
     "languageId": "r"
    }
   },
   "outputs": [],
   "source": [
    "# calculate the minimum values for each cultivar group\n",
    "cultivar_min_table <- raw_data |>\n",
    "    group_by(cultivar) |>\n",
    "    summarize(across(alcohol:proline, min, na.rm = TRUE))\n",
    "\n",
    "cultivar_min_table\n"
   ]
  },
  {
   "cell_type": "code",
   "execution_count": null,
   "id": "5567a7c6",
   "metadata": {
    "vscode": {
     "languageId": "r"
    }
   },
   "outputs": [],
   "source": [
    "# plotting all variables against flavanoids to see how the cultivars differ\n",
    "eda_plot_data <- raw_data |>\n",
    "    relocate(flavanoids, 1)\n",
    "\n",
    "eda_plot_data <- eda_plot_data |>\n",
    "        pivot_longer(\n",
    "        cols= alcohol:proline,\n",
    "        names_to=\"factor\",\n",
    "        values_to=\"values\")\n",
    "\n",
    "eda_plot1 <- eda_plot_data|>\n",
    "    ggplot(aes(x=flavanoids,y=values,color=cultivar))+\n",
    "    geom_point(alpha=0.35)+\n",
    "    facet_grid(factor~.,scales=\"free\")+\n",
    "    labs(x=\"Flavanoid\",y=\"Values\",color=\"Cultivar\")\n",
    "eda_plot1\n"
   ]
  },
  {
   "cell_type": "markdown",
   "id": "b26883e4-2976-41d0-9246-967a1b7da8f7",
   "metadata": {},
   "source": [
    "<br><br>"
   ]
  },
  {
   "cell_type": "markdown",
   "id": "1c5b0dfe-8f02-4e4f-9213-495cc00002d7",
   "metadata": {},
   "source": [
    "## Methods & Results\n",
    "---\n",
    "This project utilized a linear regression model to understand the effects of various chemical properties in order to predict what cultivar a wine was derived from. First, we read in data from the [UCI Machine Learning Repository](https://doi.org/10.24432/C5PC7J). It contains data about various wines from Italy derived from three different cultivars. Each row represents the chemical and physical properties of a different wine, such as its concentration of alcohol, magnesium level and hue.\n",
    "\n",
    "We then tidied the data and balanced the classes of the classification variable we are interested in. This is because the data set is not extensively large, so ensuring each class has an equal number of observations prevents our model from being biased towards a specific dominant class. Next we calculated some summary statistics to facilitate exploratory data analysis, with the goal of finding key input variables for our model. \n",
    "\n",
    "\n",
    "    \n",
    "6. creates a visualization of the dataset that is relevant for exploratory data analysis related to the planned classification analysis\n",
    "7. performs classification or regression analysis\n",
    "8. creates a visualization of the result of the analysis\n",
    "9. note: all tables and figure should have a figure/table number and a legend"
   ]
  },
  {
   "cell_type": "markdown",
   "id": "63467a1a-ddd3-43e1-90bc-445cab69ce00",
   "metadata": {},
   "source": [
    "<br>"
   ]
  },
  {
   "cell_type": "markdown",
   "id": "75836fdf-22c9-4efc-838e-9e0c79716ef4",
   "metadata": {},
   "source": [
    "## Discussion\n",
    "---\n",
    "1. summarize what you found\n",
    "2. discuss whether this is what you expected to find?\n",
    "3. discuss what impact could such findings have?\n",
    "4. discuss what future questions could this lead to?"
   ]
  },
  {
   "cell_type": "markdown",
   "id": "6dfbca8d-47c2-4677-bbfd-57ae1edbbf4e",
   "metadata": {},
   "source": [
    "<br>"
   ]
  },
  {
   "cell_type": "markdown",
   "id": "80bdda5a-7886-4e82-a60d-77fc96fede78",
   "metadata": {},
   "source": [
    "## References\n",
    "---\n",
    "Aeberhard,Stefan and Forina,M.. (1991). Wine. UCI Machine Learning Repository. https://doi.org/10.24432/C5PC7J."
   ]
  }
 ],
 "metadata": {
  "kernelspec": {
   "display_name": "R",
   "language": "R",
   "name": "ir"
  },
  "language_info": {
   "codemirror_mode": "r",
   "file_extension": ".r",
   "mimetype": "text/x-r-source",
   "name": "R",
   "pygments_lexer": "r",
   "version": "4.3.2"
  }
 },
 "nbformat": 4,
 "nbformat_minor": 5
}
