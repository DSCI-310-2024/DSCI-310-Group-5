























# imports and libraries 
library(GGally) # for ggpairs
library(tidyverse) #importing tidyverse
library(dplyr) # for data wrangling
library(knitr) # to create tables
library(themis) # to balance our cultivar classes out


# reading in the data from the web
raw_data <- read.csv("https://raw.githubusercontent.com/DSCI-310-2024/DSCI-310-Group-5/main/data/wine.data", header= FALSE)
           
# name the columns based on the dataset description 
col_names <- c("cultivar","alcohol","malicacid", "ash", "alcalinity_of_ash", "magnesium", "total_phenols", 
               "flavanoids", "nonflavanoid_phenols", "proanthocyanins", "color_intensity", "hue", "0D280_0D315_ratio", "proline")
colnames(raw_data) <- col_names






# Check the number of observations per cultivar
sample_size_cultivar <- raw_data %>%
    group_by(cultivar) %>%
    summarize(sample_size = n())

sample_size_cultivar # class 2 has more observations than the other classes -> need to balance the classes out


# balance the cultivar class 

# convert cultivar into a factor
raw_data <- raw_data |>
  mutate(cultivar = as.factor(cultivar))

# recipe for balancing
cultivar_balance_recipe <- recipe(cultivar ~ ., data = raw_data) |>
  step_upsample(cultivar, over_ratio = 1, skip = FALSE) |>
  prep()

# execute the balancing
data <- bake(cultivar_balance_recipe, raw_data)

# check the data is balanced
balanced_data <- data |>
  group_by(cultivar) |>
  summarize(n = n())

balanced_data # data has been upsampled so all groups have equal sample size



# EDA: use a plot to see the relationships between variables
options(repr.plot.width = 12, repr.plot.height = 30) # format the any visualizations to be easily viewable
pairplots <- raw_data %>%
  ggpairs(progress = FALSE) +
  theme(
    text = element_text(size = 15),
    plot.title = element_text(face = "bold"),
    axis.title = element_text(face = "bold")
  )
pairplots


# calculate the mean for each cultivar group
cultivar_mean_table <- raw_data |>
    group_by(cultivar) |>
    summarize(across(alcohol:proline, mean, na.rm = TRUE))

cultivar_mean_table



# calculate the standard deviation for each cultivar group
cultivar_sd_table <- raw_data |>
    group_by(cultivar) |>
    summarize(across(alcohol:proline, sd, na.rm = TRUE))

cultivar_sd_table



# calculate the maximum values for each cultivar group
cultivar_max_table <- raw_data |>
    group_by(cultivar) |>
    summarize(across(alcohol:proline, max, na.rm = TRUE))

cultivar_max_table



# calculate the minimum values for each cultivar group
cultivar_min_table <- raw_data |>
    group_by(cultivar) |>
    summarize(across(alcohol:proline, min, na.rm = TRUE))

cultivar_min_table



# plotting all variables against flavanoids to see how the cultivars differ
eda_plot_data <- raw_data |>
    relocate(flavanoids, 1)

eda_plot_data <- eda_plot_data |>
        pivot_longer(
        cols= alcohol:proline,
        names_to="factor",
        values_to="values")

eda_plot1 <- eda_plot_data|>
    ggplot(aes(x=flavanoids,y=values,color=cultivar))+
    geom_point(alpha=0.35)+
    facet_grid(factor~.,scales="free")+
    labs(x="Flavanoid",y="Values",color="Cultivar")
eda_plot1



# Convert cultivar to a factor
raw_data$cultivar <- as.factor(raw_data$cultivar)

# Create a recipe
balance_recipe <- recipe(cultivar ~ ., data = raw_data) %>%
  step_upsample(cultivar) %>%
  prep()

balanced_data <- bake(balance_recipe, raw_data)

# Selecting flavanoids as a variable for visualization
options(repr.plot.width = 8, repr.plot.height = 6)

# Create a boxplot using ggplot2
ggplot(balanced_data, aes(x = cultivar, y = flavanoids, color = cultivar)) +
  geom_boxplot() +
  labs(title = "Flavanoids across Different Cultivars", x = "Cultivar", y = "Flavanoids")


#Select the list of variables （"flavanoids", "alcohol", "color_intensity") to visualize and compare
variables_to_plot <- c("flavanoids", "alcohol", "color_intensity")

plots_list <- lapply(variables_to_plot, function(var) {
  ggplot(balanced_data, aes(x = cultivar, y = .data[[var]], color = cultivar)) +
    geom_boxplot() +
    labs(title = paste(var, "across Different Cultivars"), x = "Cultivar", y = var) +
    theme_minimal()
})

plots_list





















