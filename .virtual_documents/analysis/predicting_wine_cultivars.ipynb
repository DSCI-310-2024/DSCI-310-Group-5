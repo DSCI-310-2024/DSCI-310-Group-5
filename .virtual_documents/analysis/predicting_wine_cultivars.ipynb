




















# imports and libraries 
#library(GGally) # for ggpairs
library(tidyverse) #importing tidyverse
library(tidymodels) # importing tidymodels
library(repr)
library(gridExtra)
library(kknn)
library(dplyr) # for data wrangling
library(knitr) # to create tables
library(themis) # to balance our cultivar classes out


# Reading in the data from the web
set.seed(5)

raw_data <- read.csv("https://raw.githubusercontent.com/Kaylan-W/dsci_310_project/main/data/wine.data", header= FALSE)
           
# Name the columns based on the dataset description 
col_names <- c("cultivar","alcohol","malicacid", "ash", "alcalinity_of_ash", "magnesium", "total_phenols", 
               "flavanoids", "nonflavanoid_phenols", "proanthocyanins", "color_intensity", "hue", "0D280_0D315_ratio", "proline")
colnames(raw_data) <- col_names









# EDA: use a plot to see the relationships between variables
options(repr.plot.width = 20, repr.plot.height = 20) # format the any visualizations to be easily viewable
pairplots <- raw_data %>%
  ggpairs(progress = FALSE) +
  theme(
    text = element_text(size = 15),
    plot.title = element_text(face = "bold"),
    axis.title = element_text(face = "bold")
  )
pairplots





# Check the number of observations per cultivar
sample_size_cultivar <- raw_data %>%
    group_by(cultivar) %>%
    summarize(sample_size = n())

sample_size_cultivar # class 2 has more observations than the other classes -> need to balance the classes out





# balance the cultivar class 

# convert cultivar into a factor
raw_data <- raw_data |>
  mutate(cultivar = as.factor(cultivar))

# recipe for balancing
cultivar_balance_recipe <- recipe(cultivar ~ ., data = raw_data) |>
  step_upsample(cultivar, over_ratio = 1, skip = FALSE) |>
  prep()

# execute the balancing
data <- bake(cultivar_balance_recipe, raw_data)

# check the data is balanced
balanced_data <- data |>
  group_by(cultivar) |>
  summarize(n = n())

balanced_data # data has been upsampled so all groups have equal sample size






# calculate the mean for each cultivar group
cultivar_mean_table <- raw_data |>
    group_by(cultivar) |>
    summarize(across(alcohol:proline, mean, na.rm = TRUE))

cultivar_mean_table <- cultivar_mean_table %>% 
                      mutate(stat = 'mean') %>%
                      select(stat, everything())

 
# calculate the standard deviation for each cultivar group
cultivar_sd_table <- raw_data |>
    group_by(cultivar) |>
    summarize(across(alcohol:proline, sd, na.rm = TRUE))

cultivar_sd_table <- cultivar_sd_table %>% 
                      mutate(stat = 'sd') %>%
                      select(stat, everything())

# calculate the maximum values for each cultivar group
cultivar_max_table <- data %>%
  group_by(cultivar) %>%
  summarize(across(alcohol:proline, ~max(.x, na.rm = TRUE))) %>%  # Corrected line
  mutate(stat = 'max') %>%
  select(stat, everything())

# # calculate the minimum values for each cultivar group
cultivar_min_table <- raw_data |>
    group_by(cultivar) |>
    summarize(across(alcohol:proline, min, na.rm = TRUE))

cultivar_min_table <- cultivar_min_table %>% 
                      mutate(stat = 'min') %>%
                      select(stat, everything())


appended_stats_df <- rbind(cultivar_mean_table,cultivar_sd_table, cultivar_max_table, cultivar_min_table)
appended_stats_df





eda_plot_data <- raw_data |>
    relocate(flavanoids, 1)

eda_plot_data <- eda_plot_data |>
        pivot_longer(
        cols= alcohol:proline,
        names_to="factor",
        values_to="values")

eda_plot1 <- eda_plot_data|>
    ggplot(aes(x=flavanoids,y=values,color=cultivar))+
    geom_point(alpha=0.35)+
    facet_grid(factor~.,scales="free")+
    labs(x="Flavanoid",y="Values",color="Cultivar")
eda_plot1






# Selecting flavanoids as a variable for visualization
options(repr.plot.width = 8, repr.plot.height = 6)

# Create a boxplot using ggplot2
ggplot(data, aes(x = cultivar, y = flavanoids, color = cultivar)) +
  geom_boxplot() +
  labs(title = "Flavanoids across Different Cultivars", x = "Cultivar", y = "Flavanoids")





#Select the list of variables （"flavanoids", "alcohol", "color_intensity") to visualize and compare
variables_to_plot <- c("flavanoids", "alcohol", "color_intensity")

plots_list <- lapply(variables_to_plot, function(var) {
  ggplot(data, aes(x = cultivar, y = .data[[var]], color = cultivar)) +
    geom_boxplot() +
    labs(title = paste(var, "across Different Cultivars"), x = "Cultivar", y = var) +
    theme_minimal()
})

plots_list








data_split <- initial_split(data, prop = 0.75, strata = cultivar)
data_train <- training(data_split)
data_test <- testing(data_split)


data_recipe <- recipe(cultivar ~ flavanoids + total_phenols, data = data_train) |>
    step_scale(all_predictors()) |>
    step_center(all_predictors())

data_spec <- nearest_neighbor(weight_func = "rectangular",
                               neighbors = tune()) |>
    set_engine("kknn") |>
    set_mode("classification")

data_vfold <- vfold_cv(data_train, v = 5, strata = cultivar)

k_vals <- tibble(neighbors = seq(from = 1, to = 70, by = 1))

knn_results <- workflow() |>
    add_recipe(data_recipe) |>
    add_model(data_spec) |>
    tune_grid(resamples = data_vfold, grid = k_vals) |>
    collect_metrics()

accuracies = knn_results |>
    filter(.metric == "accuracy")

cross_val_plot <- ggplot(accuracies, aes(x = neighbors, y = mean)) +
    geom_point() +
    geom_line() +
    labs(x = "K (neighbors)", y = "Accuracy Estimate (%)", title = "Accuracy vs Number of Neighbors (k)") +
    theme(text = element_text(size = 25))

options(repr.plot.width = 15, repr.plot.height = 15) # format the any visualizations to be easily viewable
cross_val_plot





knn_spec_final <- nearest_neighbor(weight_func = "rectangular", neighbors = 8) |>
    set_engine("kknn") |>
    set_mode("classification")


final_fit<-workflow()|>
        add_recipe(data_recipe)|>
        add_model(knn_spec_final)|>
        fit(data_train)
final_fit





data_test_predictions<-predict(final_fit,data_test)|>
    bind_cols(data_test)|>
    arrange(cultivar)|>
    mutate(Class=as_factor(cultivar))

data_prediction_accuracy <- data_test_predictions |>
        metrics(truth = Class, estimate = .pred_class)|>
        filter(.metric=="accuracy")

data_prediction_accuracy





data_prediction_truth_mat<-data_test_predictions |>
        conf_mat(truth = Class, estimate = .pred_class)

data_prediction_truth_mat





















